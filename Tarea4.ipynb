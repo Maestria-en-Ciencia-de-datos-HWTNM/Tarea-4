{
  "cells": [
    {
      "cell_type": "code",
      "execution_count": 1,
      "metadata": {
        "colab": {
          "base_uri": "https://localhost:8080/"
        },
        "id": "snyKmLdZSszv",
        "outputId": "fbacbe7b-bb9c-401d-c346-71f47be54971"
      },
      "outputs": [
        {
          "output_type": "stream",
          "name": "stdout",
          "text": [
            "2.7.0\n"
          ]
        }
      ],
      "source": [
        "from datetime import datetime\n",
        "import tensorflow_datasets as tfds\n",
        "import matplotlib.pyplot as plt\n",
        "import tensorflow as tf\n",
        "from tensorflow.keras import layers\n",
        "from tensorflow.keras.layers import Embedding,Dense\n",
        "from tensorflow.keras import Sequential\n",
        "from sklearn.metrics import r2_score\n",
        "import pandas as pd\n",
        "import pandas as pd\n",
        "print(tf.__version__)"
      ]
    },
    {
      "cell_type": "markdown",
      "source": [
        "## Tarea 4 del curso: Hello world !! con Tensorflow 2. Una Introducción a Deep Learning"
      ],
      "metadata": {
        "id": "3uEw2rpnS6J4"
      }
    },
    {
      "cell_type": "markdown",
      "metadata": {
        "id": "p-4pCs3ISszz"
      },
      "source": [
        "## Punto 1.  Entrenamiento de red neuronal para regresion"
      ]
    },
    {
      "cell_type": "code",
      "execution_count": null,
      "metadata": {
        "id": "mdixBgDTSsz0",
        "outputId": "3487fd80-5380-4ecd-a988-217e9b80d258"
      },
      "outputs": [
        {
          "data": {
            "text/html": [
              "<div>\n",
              "<style scoped>\n",
              "    .dataframe tbody tr th:only-of-type {\n",
              "        vertical-align: middle;\n",
              "    }\n",
              "\n",
              "    .dataframe tbody tr th {\n",
              "        vertical-align: top;\n",
              "    }\n",
              "\n",
              "    .dataframe thead th {\n",
              "        text-align: right;\n",
              "    }\n",
              "</style>\n",
              "<table border=\"1\" class=\"dataframe\">\n",
              "  <thead>\n",
              "    <tr style=\"text-align: right;\">\n",
              "      <th></th>\n",
              "      <th>A</th>\n",
              "      <th>B</th>\n",
              "      <th>C</th>\n",
              "      <th>D</th>\n",
              "      <th>E</th>\n",
              "      <th>Y</th>\n",
              "    </tr>\n",
              "  </thead>\n",
              "  <tbody>\n",
              "    <tr>\n",
              "      <th>0</th>\n",
              "      <td>0.920574</td>\n",
              "      <td>0.326861</td>\n",
              "      <td>0.527807</td>\n",
              "      <td>0.203113</td>\n",
              "      <td>0.994426</td>\n",
              "      <td>1.306219</td>\n",
              "    </tr>\n",
              "    <tr>\n",
              "      <th>1</th>\n",
              "      <td>0.484593</td>\n",
              "      <td>0.108276</td>\n",
              "      <td>0.388172</td>\n",
              "      <td>0.465689</td>\n",
              "      <td>0.173284</td>\n",
              "      <td>1.358122</td>\n",
              "    </tr>\n",
              "    <tr>\n",
              "      <th>2</th>\n",
              "      <td>0.827789</td>\n",
              "      <td>0.865967</td>\n",
              "      <td>0.930056</td>\n",
              "      <td>0.558215</td>\n",
              "      <td>0.152119</td>\n",
              "      <td>2.302618</td>\n",
              "    </tr>\n",
              "    <tr>\n",
              "      <th>3</th>\n",
              "      <td>0.205889</td>\n",
              "      <td>0.216347</td>\n",
              "      <td>0.878902</td>\n",
              "      <td>0.329863</td>\n",
              "      <td>0.244587</td>\n",
              "      <td>0.734088</td>\n",
              "    </tr>\n",
              "    <tr>\n",
              "      <th>4</th>\n",
              "      <td>0.066839</td>\n",
              "      <td>0.429225</td>\n",
              "      <td>0.497779</td>\n",
              "      <td>0.009710</td>\n",
              "      <td>0.271564</td>\n",
              "      <td>0.806973</td>\n",
              "    </tr>\n",
              "  </tbody>\n",
              "</table>\n",
              "</div>"
            ],
            "text/plain": [
              "          A         B         C         D         E         Y\n",
              "0  0.920574  0.326861  0.527807  0.203113  0.994426  1.306219\n",
              "1  0.484593  0.108276  0.388172  0.465689  0.173284  1.358122\n",
              "2  0.827789  0.865967  0.930056  0.558215  0.152119  2.302618\n",
              "3  0.205889  0.216347  0.878902  0.329863  0.244587  0.734088\n",
              "4  0.066839  0.429225  0.497779  0.009710  0.271564  0.806973"
            ]
          },
          "execution_count": 148,
          "metadata": {},
          "output_type": "execute_result"
        }
      ],
      "source": [
        "df_train=pd.read_csv('training.csv')\n",
        "df_test=pd.read_csv('validation.csv')\n",
        "df_train.head()"
      ]
    },
    {
      "cell_type": "code",
      "execution_count": null,
      "metadata": {
        "id": "XddjjKh-Ssz2"
      },
      "outputs": [],
      "source": [
        ""
      ]
    },
    {
      "cell_type": "code",
      "execution_count": null,
      "metadata": {
        "id": "OEfl553QSsz2"
      },
      "outputs": [],
      "source": [
        "def data_load_sequential(df,shuffle_train=True ,batch_=10):\n",
        "    data_ds = tf.data.Dataset.from_tensor_slices((df.iloc[:,:-1],df.iloc[:,-1]))\n",
        "    data_ds = data_ds.cache()\n",
        "    if shuffle_train:\n",
        "        #complete_codigo\n",
        "    data_ds = data_ds.batch(batch_)\n",
        "    data_ds = data_ds.prefetch(tf.data.AUTOTUNE)\n",
        "    return data_ds\n",
        "data_train = data_load_sequential(#complete_codigo)\n",
        "data_test = data_load_sequential(#complete_codigo)"
      ]
    },
    {
      "cell_type": "code",
      "execution_count": null,
      "metadata": {
        "id": "I_u28iudSsz3",
        "outputId": "36933c68-fc75-4415-d7f3-67b0872631d3"
      },
      "outputs": [
        {
          "ename": "SyntaxError",
          "evalue": "invalid syntax (<ipython-input-228-1ba353faa2d9>, line 16)",
          "output_type": "error",
          "traceback": [
            "\u001b[0;36m  File \u001b[0;32m\"<ipython-input-228-1ba353faa2d9>\"\u001b[0;36m, line \u001b[0;32m16\u001b[0m\n\u001b[0;31m    y_pred = #complete codigo\u001b[0m\n\u001b[0m             ^\u001b[0m\n\u001b[0;31mSyntaxError\u001b[0m\u001b[0;31m:\u001b[0m invalid syntax\n"
          ]
        }
      ],
      "source": [
        "## Definir variables\n",
        "Nodo_interno=20\n",
        "Lambda_reg = 0.01\n",
        "\n",
        "w1=tf.Variable(tf.random.normal([5, Nodo_interno],dtype=tf.float64))\n",
        "b1 = tf.Variable(tf.zeros([Nodo_interno,],dtype=tf.float64))\n",
        "w2=tf.Variable(tf.random.normal([Nodo_interno, 1],dtype=tf.float64))\n",
        "b2 = tf.Variable(tf.zeros([1,],dtype=tf.float64))\n",
        "\n",
        "\n",
        "## Salida de la red neuronal (prediccion y_pred)\n",
        "def output_(w1,w2,b1,b2,x,activation=tf.keras.activations.tanh):\n",
        "\n",
        "    y1 = tf.add(tf.matmul(x,w1),b1)    \n",
        "    y1 =activation(y1)  \n",
        "    y_pred = #complete codigo\n",
        "    return  y_pred\n",
        "\n",
        "## Funcion de costo: regresion=>MSE\n",
        "def loss_mse(y_pred,y,w1,w2,regularizacion=False,lambda_reg =Lambda_reg):\n",
        "    mse = tf.reduce_mean(tf.square(y_pred-y))\n",
        "    if regularizacion:\n",
        "        L2_regularization_cost = (tf.reduce_mean(tf.math.square(w1)) +\n",
        "         tf.reduce_mean(tf.math.square(w1)))*lambda_reg/2.\n",
        "        mse +=L2_regularization_cost\n",
        "    return mse\n",
        "        \n",
        "    \n",
        "    \n",
        "Epocas=100\n",
        "loss_hist = []\n",
        "loss_hist_val = []\n",
        "loss_batch =[]\n",
        "##Learning rate\n",
        "learning_rate=0.1\n",
        "for st in range(Epocas):  ## Loop de epocas\n",
        "    for dsx, dsy  in data_train: ## Loop de datos de entrenamiento\n",
        "        ## Gradiente\n",
        "        with tf.GradientTape(watch_accessed_variables=False) as tape:\n",
        "            tape.watch([#complete codigo])\n",
        "            \n",
        "            y_pred = output_(w1,w2,b1,b2,dsx)\n",
        "            ## Calcular funcion de costo\n",
        "            loss = loss_mse(y_pred,dsy,w1,w2,regularizacion=True)\n",
        "        ## Calcular gradiente respecto a w,b\n",
        "        dl_dw1,dl_db1,dl_dw2,dl_db2 = tape.gradient(loss, [w1,b1,w2,b2])\n",
        "        ## Actualizar pesos y bias\n",
        "        w1 = w1 - learning_rate * dl_dw1\n",
        "        #complete codigo\n",
        "        #complete codigo\n",
        "        #complete codigo\n",
        "        loss_batch.append(loss.numpy())\n",
        "\n",
        "    \n",
        "    \n",
        "    loss_epoc = np.mean(loss_batch)\n",
        "    loss_hist.append(loss_epoc)\n",
        "\n",
        "    if st%10==0:\n",
        "        print('epoch: {}; loss_mse_train: {}'.format(st,loss_epoc))"
      ]
    },
    {
      "cell_type": "code",
      "execution_count": null,
      "metadata": {
        "id": "M4SfL3btSsz5",
        "outputId": "58ba7a7a-6784-43bd-ef35-098ce6bf5f56"
      },
      "outputs": [
        {
          "data": {
            "text/plain": [
              "<matplotlib.legend.Legend at 0x7f5442faf040>"
            ]
          },
          "execution_count": 222,
          "metadata": {},
          "output_type": "execute_result"
        },
        {
          "data": {
            "image/png": "[encoded data removed]",
            "text/plain": [
              "<Figure size 432x288 with 1 Axes>"
            ]
          },
          "metadata": {
            "needs_background": "light"
          },
          "output_type": "display_data"
        }
      ],
      "source": [
        "plt.plot(loss_hist,label='train')\n",
        "plt.title('Grafica de funcion de costo VS Epocas')\n",
        "plt.legend()"
      ]
    },
    {
      "cell_type": "code",
      "execution_count": null,
      "metadata": {
        "id": "Qn1KC6IySsz7",
        "outputId": "f39e8219-19b5-4a82-a8a9-6dd0fafbf1ba"
      },
      "outputs": [
        {
          "name": "stdout",
          "output_type": "stream",
          "text": [
            "Funcion de costo para datos prueba: 0.35122649367921815\n"
          ]
        }
      ],
      "source": [
        "loss_t=[]\n",
        "y_pred=[]\n",
        "y_test=[]\n",
        "for dsx_test,dsy_test in data_test:\n",
        "        y_pred_test = output_(w1,w2,b1,b2,dsx_test)\n",
        "        loss_batch_test = loss_mse(y_pred_test,dsy_test,w1,w2)\n",
        "        loss_t.append(loss_batch_test.numpy())\n",
        "        y_pred.append(y_pred_test.numpy())\n",
        "        y_test.append(dsy_test.numpy())\n",
        "loss_test =np.mean(loss_t)\n",
        "print(\"Funcion de costo para datos prueba:\",loss_test)"
      ]
    },
    {
      "cell_type": "code",
      "execution_count": null,
      "metadata": {
        "id": "puQD0xczSsz8",
        "outputId": "718d0f99-c734-4151-acdc-1294c6aae1d2"
      },
      "outputs": [
        {
          "data": {
            "text/plain": [
              "<matplotlib.legend.Legend at 0x7f54431894c0>"
            ]
          },
          "execution_count": 224,
          "metadata": {},
          "output_type": "execute_result"
        },
        {
          "data": {
            "image/png": "[encoded data removed]",
            "text/plain": [
              "<Figure size 432x288 with 1 Axes>"
            ]
          },
          "metadata": {
            "needs_background": "light"
          },
          "output_type": "display_data"
        }
      ],
      "source": [
        "y_pred_c = np.concatenate(y_pred)\n",
        "y_test_c = np.concatenate(y_test)\n",
        "plt.scatter(y_test_c,y_pred_c,color='red', label='prediccion')\n",
        "plt.legend()"
      ]
    },
    {
      "cell_type": "markdown",
      "metadata": {
        "id": "_erP_2-VSsz-"
      },
      "source": [
        "## Modelo de regresion en Sequential TF."
      ]
    },
    {
      "cell_type": "code",
      "execution_count": null,
      "metadata": {
        "id": "FFA1622qSsz_",
        "outputId": "f2e7bbc4-2577-45ee-f6a7-4f9304037c52"
      },
      "outputs": [
        {
          "name": "stdout",
          "output_type": "stream",
          "text": [
            "Epoch 1/20\n",
            "50/50 - 0s - loss: 2.1559 - 352ms/epoch - 7ms/step\n",
            "Epoch 2/20\n",
            "50/50 - 0s - loss: 1.0003 - 43ms/epoch - 865us/step\n",
            "Epoch 3/20\n",
            "50/50 - 0s - loss: 0.3643 - 36ms/epoch - 725us/step\n",
            "Epoch 4/20\n",
            "50/50 - 0s - loss: 0.3051 - 43ms/epoch - 852us/step\n",
            "Epoch 5/20\n",
            "50/50 - 0s - loss: 0.2750 - 43ms/epoch - 858us/step\n",
            "Epoch 6/20\n",
            "50/50 - 0s - loss: 0.2431 - 51ms/epoch - 1ms/step\n",
            "Epoch 7/20\n",
            "50/50 - 0s - loss: 0.2115 - 60ms/epoch - 1ms/step\n",
            "Epoch 8/20\n",
            "50/50 - 0s - loss: 0.1785 - 54ms/epoch - 1ms/step\n",
            "Epoch 9/20\n",
            "50/50 - 0s - loss: 0.1477 - 54ms/epoch - 1ms/step\n",
            "Epoch 10/20\n",
            "50/50 - 0s - loss: 0.1212 - 56ms/epoch - 1ms/step\n",
            "Epoch 11/20\n",
            "50/50 - 0s - loss: 0.0965 - 48ms/epoch - 954us/step\n",
            "Epoch 12/20\n",
            "50/50 - 0s - loss: 0.0789 - 40ms/epoch - 802us/step\n",
            "Epoch 13/20\n",
            "50/50 - 0s - loss: 0.0673 - 44ms/epoch - 888us/step\n",
            "Epoch 14/20\n",
            "50/50 - 0s - loss: 0.0597 - 54ms/epoch - 1ms/step\n",
            "Epoch 15/20\n",
            "50/50 - 0s - loss: 0.0554 - 57ms/epoch - 1ms/step\n",
            "Epoch 16/20\n",
            "50/50 - 0s - loss: 0.0531 - 52ms/epoch - 1ms/step\n",
            "Epoch 17/20\n",
            "50/50 - 0s - loss: 0.0524 - 53ms/epoch - 1ms/step\n",
            "Epoch 18/20\n",
            "50/50 - 0s - loss: 0.0520 - 58ms/epoch - 1ms/step\n",
            "Epoch 19/20\n",
            "50/50 - 0s - loss: 0.0517 - 52ms/epoch - 1ms/step\n",
            "Epoch 20/20\n",
            "50/50 - 0s - loss: 0.0513 - 60ms/epoch - 1ms/step\n"
          ]
        },
        {
          "data": {
            "text/plain": [
              "[<matplotlib.lines.Line2D at 0x7f5442d45130>]"
            ]
          },
          "execution_count": 229,
          "metadata": {},
          "output_type": "execute_result"
        },
        {
          "data": {
            "image/png": "[encoded data removed]",
            "text/plain": [
              "<Figure size 432x288 with 1 Axes>"
            ]
          },
          "metadata": {
            "needs_background": "light"
          },
          "output_type": "display_data"
        }
      ],
      "source": [
        "model = Sequential()\n",
        "model.add(Dense(20, activation=\"tanh\", input_dim=5, kernel_initializer=\"uniform\"))\n",
        "model.add(Dense(1, activation=\"linear\", kernel_initializer=\"uniform\"))\n",
        "\n",
        "# Compile model\n",
        "OPTIMIZER = 'adam'\n",
        "model.compile(loss='mse', optimizer=OPTIMIZER)\n",
        "\n",
        "# Fit the model\n",
        "model.fit(data_train, epochs=20, batch_size=10,  verbose=2)\n",
        "PredValSet = model.predict(data_test)\n",
        "plt.plot(y_test_c,PredValSet,'ro')"
      ]
    },
    {
      "cell_type": "markdown",
      "metadata": {
        "id": "hH6IHYHPSs0A"
      },
      "source": [
        "## Preguntas:\n",
        "    1- Modifique los valores de Nodo_interno para encontrar el minimo valor de la funcion de costo(recuerde colocar regularizacion=False).\n",
        "    2- Modifique los valores de nodo interno y Lambda_reg para encontrar el minimo valor de la funcion de costo (recuerde colocar regularizacion=True).\n",
        "    3- Cual modelo (entre la primera parte y el usado por tf.keras.Sequence) genera un mayor performance? A que  se debe esto?\n",
        "    4-  En el modelo construido por tf.keras.Sequence, cambie la variable OPTIMIZER usando tres diferentes metodos: https://www.tensorflow.org/api_docs/python/tf/keras/optimizers. Describa que efectos genera cada metodo en el performance del modelo."
      ]
    },
    {
      "cell_type": "markdown",
      "source": [
        "# Parte 2. Preprocesamiento con Sequence. \n",
        "### El proposito de este punto es cargar 'mnist' y realizar un preprocesamiento acoplado con el modelo (tf.keras.Sequence), tal que el ingreso de datos sea de solo un tensor de rango 1 (vector), no una imagen!! "
      ],
      "metadata": {
        "id": "TuRjfp7uTpVh"
      }
    },
    {
      "cell_type": "code",
      "execution_count": 2,
      "metadata": {
        "colab": {
          "base_uri": "https://localhost:8080/",
          "height": 188,
          "referenced_widgets": [
            "1ee4745ba25d488d8fd3186301036c97",
            "4e34ca296abd4600be99b7f0760fbf38",
            "0d1e7146241243b2bba8ac6d5ec438e1",
            "a289933293a9405b9929ffcdd22726a8",
            "eda0508549b94970832998011791fe50",
            "d449dd4dadca4042bfc0f3dbd3791570",
            "3d28151b2c914c8ea30261156490cfb2",
            "b1e5ddf36dc140d0b0ea663f53bc36f8",
            "bc78352af5444cd6ab1695435c4221fb",
            "d2a0ab1b5ccd4bb6bf061637047c6e45",
            "8a4b583b4f1e44ea890b8c386734d559"
          ]
        },
        "id": "Bqod58LeSs0A",
        "outputId": "3f9f0826-0d82-40a3-d33f-04d13127d12b"
      },
      "outputs": [
        {
          "output_type": "stream",
          "name": "stdout",
          "text": [
            "\u001b[1mDownloading and preparing dataset mnist/3.0.1 (download: 11.06 MiB, generated: 21.00 MiB, total: 32.06 MiB) to /root/tensorflow_datasets/mnist/3.0.1...\u001b[0m\n"
          ]
        },
        {
          "output_type": "stream",
          "name": "stderr",
          "text": [
            "WARNING:absl:Dataset mnist is hosted on GCS. It will automatically be downloaded to your\n",
            "local data directory. If you'd instead prefer to read directly from our public\n",
            "GCS bucket (recommended if you're running on GCP), you can instead pass\n",
            "`try_gcs=True` to `tfds.load` or set `data_dir=gs://tfds-data/datasets`.\n",
            "\n"
          ]
        },
        {
          "output_type": "display_data",
          "data": {
            "application/vnd.jupyter.widget-view+json": {
              "model_id": "1ee4745ba25d488d8fd3186301036c97",
              "version_minor": 0,
              "version_major": 2
            },
            "text/plain": [
              "Dl Completed...:   0%|          | 0/4 [00:00<?, ? file/s]"
            ]
          },
          "metadata": {}
        },
        {
          "output_type": "stream",
          "name": "stdout",
          "text": [
            "\n",
            "\u001b[1mDataset mnist downloaded and prepared to /root/tensorflow_datasets/mnist/3.0.1. Subsequent calls will reuse this data.\u001b[0m\n"
          ]
        }
      ],
      "source": [
        "(ds_train, ds_test), ds_info = tfds.load(\n",
        "    name = 'mnist',\n",
        "    split=['train', 'test'],\n",
        "    shuffle_files=True,\n",
        "    as_supervised=True,\n",
        "    with_info=True)"
      ]
    },
    {
      "cell_type": "code",
      "execution_count": 3,
      "metadata": {
        "colab": {
          "base_uri": "https://localhost:8080/",
          "height": 534
        },
        "id": "IE0YZA4USs0B",
        "outputId": "3bb5548c-aaae-4d40-8562-78ffe738bf41"
      },
      "outputs": [
        {
          "output_type": "display_data",
          "data": {
            "image/png": "[encoded data removed]",
            "text/plain": [
              "<Figure size 648x648 with 9 Axes>"
            ]
          },
          "metadata": {}
        }
      ],
      "source": [
        "fig = tfds.show_examples(ds_train, ds_info)"
      ]
    },
    {
      "cell_type": "code",
      "source": [
        "def data_load_sequential(data_ds,shuffle_train=True ,batch_=5):\n",
        "    data_ds = data_ds.cache()\n",
        "    if shuffle_train:\n",
        "        data_ds = data_ds.shuffle(len(data_ds))\n",
        "    data_ds = data_ds.batch(batch_)\n",
        "    data_ds = data_ds.prefetch(tf.data.AUTOTUNE)\n",
        "    return data_ds\n",
        "\n",
        "data_train = data_load_sequential(ds_train)\n",
        "data_test = data_load_sequential(ds_test,shuffle_train=False)\n",
        "for ds,lb in data_train.take(1):\n",
        "    print(ds.shape,lb)\n",
        "shaped=ds[0].numpy().shape"
      ],
      "metadata": {
        "colab": {
          "base_uri": "https://localhost:8080/"
        },
        "id": "uutbD9dmVKwK",
        "outputId": "64a015f4-783c-4dea-dea8-439416687f7c"
      },
      "execution_count": 10,
      "outputs": [
        {
          "output_type": "stream",
          "name": "stdout",
          "text": [
            "(5, 28, 28, 1) tf.Tensor([1 1 7 9 4], shape=(5,), dtype=int64)\n"
          ]
        }
      ]
    },
    {
      "cell_type": "code",
      "execution_count": 11,
      "metadata": {
        "id": "gmiSKhvYSs0B"
      },
      "outputs": [],
      "source": [
        "from tensorflow.keras import layers, Sequential\n",
        "trainprocess = Sequential([\n",
        "        ## Normalize pixeles                   \n",
        "        layers.Rescaling(scale=1.0 / 255),\n",
        "        \n",
        "        ## Genere un tensor de rango 1 a partir de la imagen (flatten!!)\n",
        "        layers.#complete codigo\n",
        "    ],name='preprocess')"
      ]
    },
    {
      "cell_type": "code",
      "execution_count": 13,
      "metadata": {
        "colab": {
          "base_uri": "https://localhost:8080/"
        },
        "id": "vi1aWanfSs0B",
        "outputId": "51d0ddab-0072-4197-e19c-5d9d4928cdec"
      },
      "outputs": [
        {
          "output_type": "stream",
          "name": "stdout",
          "text": [
            "Model: \"sequential\"\n",
            "_________________________________________________________________\n",
            " Layer (type)                Output Shape              Param #   \n",
            "=================================================================\n",
            " preprocess (Sequential)     (None, 784)               0         \n",
            "                                                                 \n",
            " dense (Dense)               (None, 10)                7850      \n",
            "                                                                 \n",
            "=================================================================\n",
            "Total params: 7,850\n",
            "Trainable params: 7,850\n",
            "Non-trainable params: 0\n",
            "_________________________________________________________________\n"
          ]
        }
      ],
      "source": [
        "tf.keras.backend.clear_session()\n",
        "model = tf.keras.Sequential()\n",
        "model.add(tf.keras.Input(shape=shaped))\n",
        "##Agregue la capa de preprocesamiento\n",
        "model.add(#complete codigo)\n",
        "model.add(layers.Dense(10,activation='softmax'))\n",
        "\n",
        "model.summary()"
      ]
    },
    {
      "cell_type": "markdown",
      "source": [
        "# Punto 3. Conceptos. Machine Learning  \n",
        "### En el readme.md del repositorio de la tarea, reponda lo siguiente:\n",
        "    1- Que son los datos de entrenamiento, validacion y prueba (train-test-validation)?\n",
        "    2- Describa tres funciones de costo para clasificacion y regresion. (https://www.tensorflow.org/api_docs/python/tf/keras/losses)\n",
        "    3-  Cual es la diferencia entre: BinaryCrossentropy, CategoricalCrossentropy y SparseCategoricalCrossentropy ?"
      ],
      "metadata": {
        "id": "gMBl421XWr-R"
      }
    },
    {
      "cell_type": "code",
      "execution_count": null,
      "metadata": {
        "id": "AxS6qfWKSs0B"
      },
      "outputs": [],
      "source": [
        ""
      ]
    }
  ],
  "metadata": {
    "kernelspec": {
      "display_name": "escuela_27tf",
      "language": "python",
      "name": "escuela_27tf"
    },
    "language_info": {
      "codemirror_mode": {
        "name": "ipython",
        "version": 3
      },
      "file_extension": ".py",
      "mimetype": "text/x-python",
      "name": "python",
      "nbconvert_exporter": "python",
      "pygments_lexer": "ipython3",
      "version": "3.8.5"
    },
    "colab": {
      "name": "Tarea4.ipynb",
      "provenance": [],
      "collapsed_sections": []
    },
    "widgets": {
      "application/vnd.jupyter.widget-state+json": {
        "1ee4745ba25d488d8fd3186301036c97": {
          "model_module": "@jupyter-widgets/controls",
          "model_name": "HBoxModel",
          "model_module_version": "1.5.0",
          "state": {
            "_view_name": "HBoxView",
            "_dom_classes": [],
            "_model_name": "HBoxModel",
            "_view_module": "@jupyter-widgets/controls",
            "_model_module_version": "1.5.0",
            "_view_count": null,
            "_view_module_version": "1.5.0",
            "box_style": "",
            "layout": "IPY_MODEL_4e34ca296abd4600be99b7f0760fbf38",
            "_model_module": "@jupyter-widgets/controls",
            "children": [
              "IPY_MODEL_0d1e7146241243b2bba8ac6d5ec438e1",
              "IPY_MODEL_a289933293a9405b9929ffcdd22726a8",
              "IPY_MODEL_eda0508549b94970832998011791fe50"
            ]
          }
        },
        "4e34ca296abd4600be99b7f0760fbf38": {
          "model_module": "@jupyter-widgets/base",
          "model_name": "LayoutModel",
          "model_module_version": "1.2.0",
          "state": {
            "_view_name": "LayoutView",
            "grid_template_rows": null,
            "right": null,
            "justify_content": null,
            "_view_module": "@jupyter-widgets/base",
            "overflow": null,
            "_model_module_version": "1.2.0",
            "_view_count": null,
            "flex_flow": null,
            "width": null,
            "min_width": null,
            "border": null,
            "align_items": null,
            "bottom": null,
            "_model_module": "@jupyter-widgets/base",
            "top": null,
            "grid_column": null,
            "overflow_y": null,
            "overflow_x": null,
            "grid_auto_flow": null,
            "grid_area": null,
            "grid_template_columns": null,
            "flex": null,
            "_model_name": "LayoutModel",
            "justify_items": null,
            "grid_row": null,
            "max_height": null,
            "align_content": null,
            "visibility": null,
            "align_self": null,
            "height": null,
            "min_height": null,
            "padding": null,
            "grid_auto_rows": null,
            "grid_gap": null,
            "max_width": null,
            "order": null,
            "_view_module_version": "1.2.0",
            "grid_template_areas": null,
            "object_position": null,
            "object_fit": null,
            "grid_auto_columns": null,
            "margin": null,
            "display": null,
            "left": null
          }
        },
        "0d1e7146241243b2bba8ac6d5ec438e1": {
          "model_module": "@jupyter-widgets/controls",
          "model_name": "HTMLModel",
          "model_module_version": "1.5.0",
          "state": {
            "_view_name": "HTMLView",
            "style": "IPY_MODEL_d449dd4dadca4042bfc0f3dbd3791570",
            "_dom_classes": [],
            "description": "",
            "_model_name": "HTMLModel",
            "placeholder": "​",
            "_view_module": "@jupyter-widgets/controls",
            "_model_module_version": "1.5.0",
            "value": "Dl Completed...: 100%",
            "_view_count": null,
            "_view_module_version": "1.5.0",
            "description_tooltip": null,
            "_model_module": "@jupyter-widgets/controls",
            "layout": "IPY_MODEL_3d28151b2c914c8ea30261156490cfb2"
          }
        },
        "a289933293a9405b9929ffcdd22726a8": {
          "model_module": "@jupyter-widgets/controls",
          "model_name": "FloatProgressModel",
          "model_module_version": "1.5.0",
          "state": {
            "_view_name": "ProgressView",
            "style": "IPY_MODEL_b1e5ddf36dc140d0b0ea663f53bc36f8",
            "_dom_classes": [],
            "description": "",
            "_model_name": "FloatProgressModel",
            "bar_style": "success",
            "max": 4,
            "_view_module": "@jupyter-widgets/controls",
            "_model_module_version": "1.5.0",
            "value": 4,
            "_view_count": null,
            "_view_module_version": "1.5.0",
            "orientation": "horizontal",
            "min": 0,
            "description_tooltip": null,
            "_model_module": "@jupyter-widgets/controls",
            "layout": "IPY_MODEL_bc78352af5444cd6ab1695435c4221fb"
          }
        },
        "eda0508549b94970832998011791fe50": {
          "model_module": "@jupyter-widgets/controls",
          "model_name": "HTMLModel",
          "model_module_version": "1.5.0",
          "state": {
            "_view_name": "HTMLView",
            "style": "IPY_MODEL_d2a0ab1b5ccd4bb6bf061637047c6e45",
            "_dom_classes": [],
            "description": "",
            "_model_name": "HTMLModel",
            "placeholder": "​",
            "_view_module": "@jupyter-widgets/controls",
            "_model_module_version": "1.5.0",
            "value": " 4/4 [00:00&lt;00:00,  4.00 file/s]",
            "_view_count": null,
            "_view_module_version": "1.5.0",
            "description_tooltip": null,
            "_model_module": "@jupyter-widgets/controls",
            "layout": "IPY_MODEL_8a4b583b4f1e44ea890b8c386734d559"
          }
        },
        "d449dd4dadca4042bfc0f3dbd3791570": {
          "model_module": "@jupyter-widgets/controls",
          "model_name": "DescriptionStyleModel",
          "model_module_version": "1.5.0",
          "state": {
            "_view_name": "StyleView",
            "_model_name": "DescriptionStyleModel",
            "description_width": "",
            "_view_module": "@jupyter-widgets/base",
            "_model_module_version": "1.5.0",
            "_view_count": null,
            "_view_module_version": "1.2.0",
            "_model_module": "@jupyter-widgets/controls"
          }
        },
        "3d28151b2c914c8ea30261156490cfb2": {
          "model_module": "@jupyter-widgets/base",
          "model_name": "LayoutModel",
          "model_module_version": "1.2.0",
          "state": {
            "_view_name": "LayoutView",
            "grid_template_rows": null,
            "right": null,
            "justify_content": null,
            "_view_module": "@jupyter-widgets/base",
            "overflow": null,
            "_model_module_version": "1.2.0",
            "_view_count": null,
            "flex_flow": null,
            "width": null,
            "min_width": null,
            "border": null,
            "align_items": null,
            "bottom": null,
            "_model_module": "@jupyter-widgets/base",
            "top": null,
            "grid_column": null,
            "overflow_y": null,
            "overflow_x": null,
            "grid_auto_flow": null,
            "grid_area": null,
            "grid_template_columns": null,
            "flex": null,
            "_model_name": "LayoutModel",
            "justify_items": null,
            "grid_row": null,
            "max_height": null,
            "align_content": null,
            "visibility": null,
            "align_self": null,
            "height": null,
            "min_height": null,
            "padding": null,
            "grid_auto_rows": null,
            "grid_gap": null,
            "max_width": null,
            "order": null,
            "_view_module_version": "1.2.0",
            "grid_template_areas": null,
            "object_position": null,
            "object_fit": null,
            "grid_auto_columns": null,
            "margin": null,
            "display": null,
            "left": null
          }
        },
        "b1e5ddf36dc140d0b0ea663f53bc36f8": {
          "model_module": "@jupyter-widgets/controls",
          "model_name": "ProgressStyleModel",
          "model_module_version": "1.5.0",
          "state": {
            "_view_name": "StyleView",
            "_model_name": "ProgressStyleModel",
            "description_width": "",
            "_view_module": "@jupyter-widgets/base",
            "_model_module_version": "1.5.0",
            "_view_count": null,
            "_view_module_version": "1.2.0",
            "bar_color": null,
            "_model_module": "@jupyter-widgets/controls"
          }
        },
        "bc78352af5444cd6ab1695435c4221fb": {
          "model_module": "@jupyter-widgets/base",
          "model_name": "LayoutModel",
          "model_module_version": "1.2.0",
          "state": {
            "_view_name": "LayoutView",
            "grid_template_rows": null,
            "right": null,
            "justify_content": null,
            "_view_module": "@jupyter-widgets/base",
            "overflow": null,
            "_model_module_version": "1.2.0",
            "_view_count": null,
            "flex_flow": null,
            "width": null,
            "min_width": null,
            "border": null,
            "align_items": null,
            "bottom": null,
            "_model_module": "@jupyter-widgets/base",
            "top": null,
            "grid_column": null,
            "overflow_y": null,
            "overflow_x": null,
            "grid_auto_flow": null,
            "grid_area": null,
            "grid_template_columns": null,
            "flex": null,
            "_model_name": "LayoutModel",
            "justify_items": null,
            "grid_row": null,
            "max_height": null,
            "align_content": null,
            "visibility": null,
            "align_self": null,
            "height": null,
            "min_height": null,
            "padding": null,
            "grid_auto_rows": null,
            "grid_gap": null,
            "max_width": null,
            "order": null,
            "_view_module_version": "1.2.0",
            "grid_template_areas": null,
            "object_position": null,
            "object_fit": null,
            "grid_auto_columns": null,
            "margin": null,
            "display": null,
            "left": null
          }
        },
        "d2a0ab1b5ccd4bb6bf061637047c6e45": {
          "model_module": "@jupyter-widgets/controls",
          "model_name": "DescriptionStyleModel",
          "model_module_version": "1.5.0",
          "state": {
            "_view_name": "StyleView",
            "_model_name": "DescriptionStyleModel",
            "description_width": "",
            "_view_module": "@jupyter-widgets/base",
            "_model_module_version": "1.5.0",
            "_view_count": null,
            "_view_module_version": "1.2.0",
            "_model_module": "@jupyter-widgets/controls"
          }
        },
        "8a4b583b4f1e44ea890b8c386734d559": {
          "model_module": "@jupyter-widgets/base",
          "model_name": "LayoutModel",
          "model_module_version": "1.2.0",
          "state": {
            "_view_name": "LayoutView",
            "grid_template_rows": null,
            "right": null,
            "justify_content": null,
            "_view_module": "@jupyter-widgets/base",
            "overflow": null,
            "_model_module_version": "1.2.0",
            "_view_count": null,
            "flex_flow": null,
            "width": null,
            "min_width": null,
            "border": null,
            "align_items": null,
            "bottom": null,
            "_model_module": "@jupyter-widgets/base",
            "top": null,
            "grid_column": null,
            "overflow_y": null,
            "overflow_x": null,
            "grid_auto_flow": null,
            "grid_area": null,
            "grid_template_columns": null,
            "flex": null,
            "_model_name": "LayoutModel",
            "justify_items": null,
            "grid_row": null,
            "max_height": null,
            "align_content": null,
            "visibility": null,
            "align_self": null,
            "height": null,
            "min_height": null,
            "padding": null,
            "grid_auto_rows": null,
            "grid_gap": null,
            "max_width": null,
            "order": null,
            "_view_module_version": "1.2.0",
            "grid_template_areas": null,
            "object_position": null,
            "object_fit": null,
            "grid_auto_columns": null,
            "margin": null,
            "display": null,
            "left": null
          }
        }
      }
    }
  },
  "nbformat": 4,
  "nbformat_minor": 0
}